{
 "cells": [
  {
   "cell_type": "code",
   "execution_count": 27,
   "metadata": {
    "collapsed": false
   },
   "outputs": [],
   "source": [
    "import json\n",
    "from file_utilities import open_json, write_json, find_labels\n",
    "from text_tokenize_lemmatize import tokenizer_lemmatizer, stemmer\n",
    "from spacy.en import English\n",
    "from coffee_flavors import coffee_flavors\n",
    "\n",
    "spacy_parser = English()"
   ]
  },
  {
   "cell_type": "code",
   "execution_count": null,
   "metadata": {
    "collapsed": false
   },
   "outputs": [],
   "source": [
    "[flavor_table[i]['level_1']]"
   ]
  },
  {
   "cell_type": "code",
   "execution_count": 26,
   "metadata": {
    "collapsed": false
   },
   "outputs": [],
   "source": [
    "flavor_table = open_json(filepath='flavor_table.json')\n",
    "flavor_table_processed = open_json(filepath='flavor_table_processed.json')\n",
    "\n",
    "notes = open_json(filepath='tasting_notes.json')"
   ]
  },
  {
   "cell_type": "code",
   "execution_count": null,
   "metadata": {
    "collapsed": true
   },
   "outputs": [],
   "source": [
    "from nltk.stem.porter import PorterStemmer\n",
    "stemmer_nltk = PorterStemmer()"
   ]
  },
  {
   "cell_type": "code",
   "execution_count": null,
   "metadata": {
    "collapsed": false
   },
   "outputs": [],
   "source": [
    "sentence = raw_input()\n",
    "\n",
    "tokenized_sentence = tokenizer_lemmatizer(\n",
    "            unicode(sentence), spacy_parser, stopwords=[',', '.', '!', ';', ':', '?','and','a','-'])\n",
    "stemmed_tokenized_sentence = stemmer(tokenized_sentence)\n"
   ]
  },
  {
   "cell_type": "code",
   "execution_count": null,
   "metadata": {
    "collapsed": false
   },
   "outputs": [],
   "source": [
    "sentence = raw_input()\n",
    "\n",
    "tokenized_sentence = tokenizer_lemmatizer(\n",
    "            unicode(sentence), spacy_parser, stopwords=[',', '.', '!', ';', ':', '?','and','a','-'])\n",
    "stemmed_tokenized_sentence = stemmer(tokenized_sentence)\n",
    "\n",
    "print stemmed_tokenized_sentence\n",
    "\n",
    "tags = []\n",
    "\n",
    "for word in stemmed_tokenized_sentence:   \n",
    "    tags.append(find_labels(word, flavor_table, flavor_table_processed))\n",
    "tags = filter(None, tags)\n",
    "\n",
    "print tags"
   ]
  },
  {
   "cell_type": "code",
   "execution_count": 28,
   "metadata": {
    "collapsed": false
   },
   "outputs": [
    {
     "name": "stdout",
     "output_type": "stream",
     "text": [
      "Dark chocolate, raisin, cherry cola\n",
      "[[u'Nutty/Cocoa', u'Cocoa', u'Dark Chocolate'], [u'Nutty/Cocoa', u'Cocoa', u'Chocolate'], [u'Fruity', u'Dried Fruit', u'Raisin'], [u'Fruity', u'Other Fruit', u'Cherry']]\n",
      "It has a bright acidity balanced with a medium body, milk chocolate and toasted nut flavors, and a deep lingering finish.\n",
      "[[u'Nutty/Cocoa', u'Cocoa', u'Chocolate']]\n",
      "Rio Negro coffee has a nice velvety body, mild acidity, and flavors of graham cracker and chocolate.\n",
      "[[u'Nutty/Cocoa', u'Cocoa', u'Chocolate']]\n",
      "Chocolate aroma, gentle silky body, malic acidity, brown sugar sweetness\n",
      "[[u'Nutty/Cocoa', u'Cocoa', u'Chocolate'], [u'Sour/Fermented', u'Sour', u'Malic Acid'], [u'Roasted', u'Burnt', u'Brown, Roast'], [u'Sweet']]\n",
      "Almond aroma, intense honey sweetness and caramel notes, citric acidity, creamy body\n",
      "[[u'Nutty/Cocoa', u'Nutty', u'Almond'], [u'Sweet', u'Brown Sugar', u'Honey'], [u'Sweet'], [u'Sour/Fermented', u'Sour', u'Citric Acid']]\n",
      "Brilliant acidity, elegantly balanced, flavors of maple syrup and fresh squeezed orange juice. It is impeccably balanced with a long satisfying finish.\n",
      "[[u'Sweet', u'Brown Sugar', u'Maple Syrup'], [u'Green/Vegetative', u'Green/Vegetative', u'Fresh'], [u'Fruity', u'Citrus Fruit', u'Orange']]\n",
      "Full bodied and rich, milk chocolate and nut flavors with sweet citrus notes\n",
      "[[u'Nutty/Cocoa', u'Cocoa', u'Chocolate'], [u'Sweet'], [u'Fruity', u'Citrus Fruit']]\n",
      "This coffee is clean and sweet, with a softened acidity and medium body. Flavors of cocoa and caramel mingle with hints of tropical fruit.\n",
      "[[u'Sweet'], [u'Nutty/Cocoa', u'Cocoa']]\n",
      "Balanced and elegant, crisp black tea, citrus, and silky dark chocolate flavors\n",
      "[[u'Floral', u'Black Tea'], [u'Fruity', u'Citrus Fruit'], [u'Nutty/Cocoa', u'Cocoa', u'Dark Chocolate'], [u'Nutty/Cocoa', u'Cocoa', u'Chocolate']]\n",
      "The cup has medium body, slightly snappy acidity, and is clean and sweet with rich notes of pipe tobacco and cedar, with subtle hints of sandalwood.\n",
      "[[u'Sweet'], [u'Roasted', u'Pipe Tobacco'], [u'Roasted', u'Tobacco']]\n",
      "[]\n"
     ]
    }
   ],
   "source": [
    "tags=[]\n",
    "for note in notes[0:10]:\n",
    "    print note\n",
    "    print coffee_flavors(note)\n",
    "\n",
    "tags = filter(None, tags)\n",
    "\n",
    "print tags"
   ]
  },
  {
   "cell_type": "code",
   "execution_count": null,
   "metadata": {
    "collapsed": false
   },
   "outputs": [],
   "source": [
    "notes"
   ]
  },
  {
   "cell_type": "code",
   "execution_count": null,
   "metadata": {
    "collapsed": false
   },
   "outputs": [],
   "source": [
    "text = 'Sweet grapefruit, lemon-lime and fruit punch with citric, tartaric acidity and a heavy mouthfeel.'\n",
    "coffee_flavors(text)"
   ]
  },
  {
   "cell_type": "code",
   "execution_count": 32,
   "metadata": {
    "collapsed": false
   },
   "outputs": [
    {
     "data": {
      "text/plain": [
       "[[[u'Nutty/Cocoa', u'Cocoa', u'Dark Chocolate'],\n",
       "  [u'Nutty/Cocoa', u'Cocoa', u'Chocolate'],\n",
       "  [u'Fruity', u'Dried Fruit', u'Raisin'],\n",
       "  [u'Fruity', u'Other Fruit', u'Cherry']],\n",
       " [[u'Nutty/Cocoa', u'Cocoa', u'Chocolate']]]"
      ]
     },
     "execution_count": 32,
     "metadata": {},
     "output_type": "execute_result"
    }
   ],
   "source": [
    "[coffee_flavors(note) for note in notes[0:2]]"
   ]
  },
  {
   "cell_type": "code",
   "execution_count": 34,
   "metadata": {
    "collapsed": false
   },
   "outputs": [
    {
     "ename": "AttributeError",
     "evalue": "'module' object has no attribute '__version__'",
     "output_type": "error",
     "traceback": [
      "\u001b[0;31m---------------------------------------------------------------------------\u001b[0m",
      "\u001b[0;31mAttributeError\u001b[0m                            Traceback (most recent call last)",
      "\u001b[0;32m<ipython-input-34-a6af88c3dbc3>\u001b[0m in \u001b[0;36m<module>\u001b[0;34m()\u001b[0m\n\u001b[1;32m      1\u001b[0m \u001b[0;32mimport\u001b[0m \u001b[0mspacy\u001b[0m\u001b[0;34m\u001b[0m\u001b[0m\n\u001b[1;32m      2\u001b[0m \u001b[0;34m\u001b[0m\u001b[0m\n\u001b[0;32m----> 3\u001b[0;31m \u001b[0;32mprint\u001b[0m\u001b[0;34m(\u001b[0m\u001b[0;34m'The nltk version is {}.'\u001b[0m\u001b[0;34m.\u001b[0m\u001b[0mformat\u001b[0m\u001b[0;34m(\u001b[0m\u001b[0mspacy\u001b[0m\u001b[0;34m.\u001b[0m\u001b[0m__version__\u001b[0m\u001b[0;34m)\u001b[0m\u001b[0;34m)\u001b[0m\u001b[0;34m\u001b[0m\u001b[0m\n\u001b[0m",
      "\u001b[0;31mAttributeError\u001b[0m: 'module' object has no attribute '__version__'"
     ]
    }
   ],
   "source": [
    "import spacy\n",
    "\n",
    "print('The nltk version is {}.'.format(spacy.__version__))"
   ]
  },
  {
   "cell_type": "code",
   "execution_count": null,
   "metadata": {
    "collapsed": true
   },
   "outputs": [],
   "source": []
  }
 ],
 "metadata": {
  "kernelspec": {
   "display_name": "Python 2",
   "language": "python",
   "name": "python2"
  },
  "language_info": {
   "codemirror_mode": {
    "name": "ipython",
    "version": 2
   },
   "file_extension": ".py",
   "mimetype": "text/x-python",
   "name": "python",
   "nbconvert_exporter": "python",
   "pygments_lexer": "ipython2",
   "version": "2.7.10"
  }
 },
 "nbformat": 4,
 "nbformat_minor": 0
}
