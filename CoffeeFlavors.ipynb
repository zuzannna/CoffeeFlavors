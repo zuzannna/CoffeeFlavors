{
 "cells": [
  {
   "cell_type": "code",
   "execution_count": 358,
   "metadata": {
    "collapsed": false
   },
   "outputs": [],
   "source": [
    "def _read_review():\n",
    "    \"\"\"\n",
    "    function which reads in review and returns a list of parsed words\n",
    "    input: string\n",
    "    output: list\n",
    "    \"\"\"\n",
    "    line = input().split()\n",
    "    return line"
   ]
  },
  {
   "cell_type": "code",
   "execution_count": null,
   "metadata": {
    "collapsed": true
   },
   "outputs": [],
   "source": [
    "import json"
   ]
  },
  {
   "cell_type": "code",
   "execution_count": 5,
   "metadata": {
    "collapsed": false
   },
   "outputs": [
    {
     "data": {
      "text/plain": [
       "['Swiss',\n",
       " 'chocolate,',\n",
       " 'vanilla,',\n",
       " 'orange',\n",
       " 'creamsicle,',\n",
       " 'piquant',\n",
       " 'acidity,',\n",
       " 'creamy',\n",
       " 'body']"
      ]
     },
     "execution_count": 5,
     "metadata": {},
     "output_type": "execute_result"
    }
   ],
   "source": [
    "line"
   ]
  },
  {
   "cell_type": "code",
   "execution_count": 26,
   "metadata": {
    "collapsed": false
   },
   "outputs": [],
   "source": [
    "coffee_flavors = {'outer':['cherry','orange','chocolate'],'inner':['nutty','berry']}"
   ]
  },
  {
   "cell_type": "code",
   "execution_count": 20,
   "metadata": {
    "collapsed": false
   },
   "outputs": [
    {
     "data": {
      "text/plain": [
       "['cherry', 'orange', 'chocolate']"
      ]
     },
     "execution_count": 20,
     "metadata": {},
     "output_type": "execute_result"
    }
   ],
   "source": [
    "coffee_flavors['outer']"
   ]
  },
  {
   "cell_type": "code",
   "execution_count": 23,
   "metadata": {
    "collapsed": false
   },
   "outputs": [
    {
     "data": {
      "text/plain": [
       "False"
      ]
     },
     "execution_count": 23,
     "metadata": {},
     "output_type": "execute_result"
    }
   ],
   "source": [
    "'cherry' in coffee_flavors.values()"
   ]
  },
  {
   "cell_type": "code",
   "execution_count": 66,
   "metadata": {
    "collapsed": false
   },
   "outputs": [
    {
     "data": {
      "text/plain": [
       "['outer', 'inner']"
      ]
     },
     "execution_count": 66,
     "metadata": {},
     "output_type": "execute_result"
    }
   ],
   "source": [
    "coffee_flavors.keys()"
   ]
  },
  {
   "cell_type": "code",
   "execution_count": null,
   "metadata": {
    "collapsed": true
   },
   "outputs": [],
   "source": [
    "for , age in list.iteritems():\n",
    "    if age == search_age:\n",
    "        print name"
   ]
  },
  {
   "cell_type": "code",
   "execution_count": 68,
   "metadata": {
    "collapsed": false
   },
   "outputs": [
    {
     "name": "stdout",
     "output_type": "stream",
     "text": [
      "Swiss\n",
      "no\n",
      "no\n",
      "chocolate,\n",
      "no\n",
      "no\n",
      "vanilla,\n",
      "no\n",
      "no\n",
      "orange\n",
      "no\n",
      "no\n",
      "creamsicle,\n",
      "no\n",
      "no\n",
      "piquant\n",
      "no\n",
      "no\n",
      "acidity,\n",
      "no\n",
      "no\n",
      "creamy\n",
      "no\n",
      "no\n",
      "body\n",
      "no\n",
      "no\n"
     ]
    }
   ],
   "source": [
    "for word in line:\n",
    "    print word\n",
    "    for list_ in coffee_flavors.values():\n",
    "        if word in lists:\n",
    "            print 'yes'\n",
    "        else:\n",
    "            print 'no'"
   ]
  },
  {
   "cell_type": "code",
   "execution_count": 62,
   "metadata": {
    "collapsed": false
   },
   "outputs": [],
   "source": [
    "with open('scaa_flavor_wheel.json', 'r') as f:\n",
    "     data = json.load(f)"
   ]
  },
  {
   "cell_type": "code",
   "execution_count": 37,
   "metadata": {
    "collapsed": false
   },
   "outputs": [
    {
     "data": {
      "text/plain": [
       "dict"
      ]
     },
     "execution_count": 37,
     "metadata": {},
     "output_type": "execute_result"
    }
   ],
   "source": [
    "type(data)"
   ]
  },
  {
   "cell_type": "code",
   "execution_count": 39,
   "metadata": {
    "collapsed": false
   },
   "outputs": [
    {
     "data": {
      "text/plain": [
       "[u'flavor', u'css_color', u'children']"
      ]
     },
     "execution_count": 39,
     "metadata": {},
     "output_type": "execute_result"
    }
   ],
   "source": [
    "data.keys()"
   ]
  },
  {
   "cell_type": "code",
   "execution_count": 63,
   "metadata": {
    "collapsed": false
   },
   "outputs": [
    {
     "data": {
      "text/plain": [
       "{u'children': [{u'flavor': u'Pungent'},\n",
       "  {u'flavor': u'Pepper'},\n",
       "  {u'children': [{u'flavor': u'Anise'},\n",
       "    {u'flavor': u'Nutmeg'},\n",
       "    {u'flavor': u'Cinnamon'},\n",
       "    {u'flavor': u'Clove'}],\n",
       "   u'flavor': u'Brown Spice'}],\n",
       " u'css_color': u'#ab2440',\n",
       " u'flavor': u'Spices'}"
      ]
     },
     "execution_count": 63,
     "metadata": {},
     "output_type": "execute_result"
    }
   ],
   "source": [
    "data['children'][1]"
   ]
  },
  {
   "cell_type": "code",
   "execution_count": 59,
   "metadata": {
    "collapsed": false
   },
   "outputs": [
    {
     "data": {
      "text/plain": [
       "list"
      ]
     },
     "execution_count": 59,
     "metadata": {},
     "output_type": "execute_result"
    }
   ],
   "source": [
    "type(data['children'])"
   ]
  },
  {
   "cell_type": "code",
   "execution_count": null,
   "metadata": {
    "collapsed": true
   },
   "outputs": [],
   "source": [
    "import json\n",
    "\n",
    "class Node(object):\n",
    "    def __init__(self, component=None, status=None, level=0):\n",
    "        self.component = component\n",
    "        self.status    = status\n",
    "        self.level     = level\n",
    "        self.children  = []\n",
    "\n",
    "    def __repr__(self):        \n",
    "        return '\\n{indent}Node({component},{status},{children})'.format(\n",
    "                                         indent = self.level*'\\t', \n",
    "                                         component = self.component,\n",
    "                                         status = self.status,\n",
    "                                         children = repr(self.children))\n",
    "    def add_child(self, child):\n",
    "        self.children.append(child)    \n",
    "\n",
    "def tree_builder(obj, level=0):\n",
    "    node = Node(component=obj['component'], status=obj['status'], level=level)\n",
    "    for child in obj.get('children',[]):\n",
    "        node.add_child(tree_builder(child, level=level+1))\n",
    "    return node\n",
    "\n",
    "def load_json(filename):\n",
    "    with open(filename) as f:\n",
    "        return json.load(f)\n",
    "\n",
    "obj = load_json('test.json')\n",
    "tree = tree_builder(obj)\n",
    "print tree"
   ]
  },
  {
   "cell_type": "code",
   "execution_count": 72,
   "metadata": {
    "collapsed": false
   },
   "outputs": [],
   "source": [
    "import jsontree\n",
    "#backagain = jsontree.loads(ser)\n",
    "\n",
    "with open('scaa_flavor_wheel.json', 'r') as f:\n",
    "     data = jsontree.load(f)"
   ]
  },
  {
   "cell_type": "code",
   "execution_count": 136,
   "metadata": {
    "collapsed": false
   },
   "outputs": [
    {
     "data": {
      "text/plain": [
       "defaultdict(jsontree.jsontree,\n",
       "            {'_ipython_display_': defaultdict(jsontree.jsontree, {})})"
      ]
     },
     "execution_count": 136,
     "metadata": {},
     "output_type": "execute_result"
    }
   ],
   "source": [
    "data.items()[6][1][0][21]"
   ]
  },
  {
   "cell_type": "code",
   "execution_count": 137,
   "metadata": {
    "collapsed": true
   },
   "outputs": [],
   "source": [
    "with open('scaa_flavor_wheel.json', 'r') as f:\n",
    "     data1 = json.load(f)\n",
    "        \n",
    "g = data1.values()"
   ]
  },
  {
   "cell_type": "code",
   "execution_count": 139,
   "metadata": {
    "collapsed": false
   },
   "outputs": [
    {
     "data": {
      "text/plain": [
       "[u'flavor', u'css_color', u'children']"
      ]
     },
     "execution_count": 139,
     "metadata": {},
     "output_type": "execute_result"
    }
   ],
   "source": [
    "data1.keys()"
   ]
  },
  {
   "cell_type": "code",
   "execution_count": 146,
   "metadata": {
    "collapsed": false
   },
   "outputs": [],
   "source": []
  },
  {
   "cell_type": "code",
   "execution_count": 284,
   "metadata": {
    "collapsed": false
   },
   "outputs": [
    {
     "data": {
      "text/plain": [
       "u'Roasted'"
      ]
     },
     "execution_count": 284,
     "metadata": {},
     "output_type": "execute_result"
    }
   ],
   "source": [
    "g[2:][0][0][u'flavor']"
   ]
  },
  {
   "cell_type": "code",
   "execution_count": 277,
   "metadata": {
    "collapsed": false
   },
   "outputs": [
    {
     "name": "stdout",
     "output_type": "stream",
     "text": [
      "0 [u'Peanuts']\n",
      "1 [u'Hazelnut']\n",
      "2 [u'Almond']\n"
     ]
    }
   ],
   "source": [
    "for i, child in enumerate(g[2:][0][2][u'children'][0][u'children']):\n",
    "    print i, child.values()"
   ]
  },
  {
   "cell_type": "code",
   "execution_count": 278,
   "metadata": {
    "collapsed": false
   },
   "outputs": [
    {
     "name": "stdout",
     "output_type": "stream",
     "text": [
      "0 [u'Nutty', [{u'flavor': u'Peanuts'}, {u'flavor': u'Hazelnut'}, {u'flavor': u'Almond'}]]\n",
      "1 [u'Cocoa', [{u'flavor': u'Chocolate'}, {u'flavor': u'Dark Chocolate'}]]\n"
     ]
    }
   ],
   "source": [
    "for i, child in enumerate(g[2:][0][2][u'children']):\n",
    "    print i, child.values()"
   ]
  },
  {
   "cell_type": "code",
   "execution_count": 420,
   "metadata": {
    "collapsed": true
   },
   "outputs": [],
   "source": [
    "flavors = []\n",
    "flavor_ = []"
   ]
  },
  {
   "cell_type": "code",
   "execution_count": 428,
   "metadata": {
    "collapsed": false
   },
   "outputs": [
    {
     "name": "stdout",
     "output_type": "stream",
     "text": [
      "Acrid\n",
      "Ashy\n",
      "Smoky\n",
      "Brown, Roast\n",
      "Malt\n",
      "Grain\n",
      "Anise\n",
      "Nutmeg\n",
      "Cinnamon\n",
      "Clove\n",
      "Peanuts\n",
      "Hazelnut\n",
      "Almond\n",
      "Chocolate\n",
      "Dark Chocolate\n",
      "Molasses\n",
      "Maple Syrup\n",
      "Carmelized\n",
      "Honey\n",
      "Chamomile\n",
      "Rose\n",
      "Jasmine\n",
      "Blackberry\n",
      "Raspberry\n",
      "Blueberry\n",
      "Strawberry\n",
      "Raisin\n",
      "Prune\n",
      "Coconut\n",
      "Cherry\n",
      "Pomegranate\n",
      "Pineapple\n",
      "Grape\n",
      "Apple\n",
      "Peach\n",
      "Pear\n",
      "Grapefruit\n",
      "Orange\n",
      "Lemon\n",
      "Lime\n",
      "Sour Aromatics\n",
      "Acetic Acid\n",
      "Butyric Acid\n",
      "Isovaleric Acid\n",
      "Citric Acid\n",
      "Malic Acid\n",
      "Winey\n",
      "Whiskey\n",
      "Fermented\n",
      "Overripe\n",
      "Under-Ripe\n",
      "Peapod\n",
      "Fresh\n",
      "Dark Green\n",
      "Vegetative\n",
      "Hay-Like\n",
      "Herb-Like\n",
      "Stale\n",
      "Cardboard\n",
      "Papery\n",
      "Woody\n",
      "Moldy/Damp\n",
      "Musty/Dusty\n",
      "Musty/Earthy\n",
      "Animalic\n",
      "Meaty Brothy\n",
      "Phenolic\n",
      "Bitter\n",
      "Salty\n",
      "Medicinal\n",
      "Petroleum\n",
      "Skunky\n",
      "Rubber\n"
     ]
    }
   ],
   "source": [
    "for i, child in enumerate(g[2:][0]):\n",
    "    for i, (k, v) in enumerate(child.iteritems()):\n",
    "            for h, element in enumerate(v):\n",
    "                #flavors.append(element['flavor'])\n",
    "                try:\n",
    "                    #element['flavor']\n",
    "                    #print element['children']\n",
    "                    for i, flavor in enumerate(element['children']):\n",
    "                        #print 'outermost'\n",
    "                        print flavor['flavor']\n",
    "                        flavor_.append(flavor['flavor'])\n",
    "                except:\n",
    "                    #print 'middle',v\n",
    "                    continue\n"
   ]
  },
  {
   "cell_type": "code",
   "execution_count": 433,
   "metadata": {
    "collapsed": false
   },
   "outputs": [],
   "source": [
    "with open('scaa_flavor_wheel.json', 'r') as f:\n",
    "     data = json.load(f)\n",
    "        \n",
    "json_dump = data.values()\n",
    "flavors_list = []\n",
    "\n",
    "for i, child in enumerate(json_dump[2:][0]):\n",
    "    for i, (k, v) in enumerate(child.iteritems()):\n",
    "            for c, element in enumerate(v):\n",
    "                try:\n",
    "                    for i, flavor in enumerate(element['children']):\n",
    "                        flavors_list.append(flavor['flavor'])\n",
    "                except:\n",
    "                    continue\n"
   ]
  },
  {
   "cell_type": "code",
   "execution_count": 442,
   "metadata": {
    "collapsed": false
   },
   "outputs": [],
   "source": [
    "from file_utilities import open_json, write_json\n",
    "lemmatized_notes = open_json('lemmatized_notes.json')\n",
    "flavors_list_outer_lemmatized = open_json('flavors_list_outer_lemmatized.json')"
   ]
  },
  {
   "cell_type": "code",
   "execution_count": 506,
   "metadata": {
    "collapsed": false
   },
   "outputs": [],
   "source": [
    "def _find_labels(list):\n",
    "    flavors = []\n",
    "    for lemma in list:\n",
    "        for flavor in flavors_list_outer_lemmatized:\n",
    "            if lemma == flavor:\n",
    "                flavors.append(flavor)\n",
    "    flavors = set(flavors)\n",
    "    return flavors"
   ]
  },
  {
   "cell_type": "code",
   "execution_count": 509,
   "metadata": {
    "collapsed": false
   },
   "outputs": [],
   "source": [
    "o = list(_find_labels(lemmatized_notes[0]))"
   ]
  },
  {
   "cell_type": "code",
   "execution_count": 510,
   "metadata": {
    "collapsed": false
   },
   "outputs": [
    {
     "data": {
      "text/plain": [
       "[u'dark', u'cherry', u'raisin', u'chocolate']"
      ]
     },
     "execution_count": 510,
     "metadata": {},
     "output_type": "execute_result"
    }
   ],
   "source": [
    "o"
   ]
  },
  {
   "cell_type": "code",
   "execution_count": 462,
   "metadata": {
    "collapsed": false
   },
   "outputs": [
    {
     "data": {
      "text/plain": [
       "[u'dark', u'chocolate', u'raisin', u'cherry', u'cola']"
      ]
     },
     "execution_count": 462,
     "metadata": {},
     "output_type": "execute_result"
    }
   ],
   "source": [
    "lemmatized_notes[0]"
   ]
  },
  {
   "cell_type": "code",
   "execution_count": 511,
   "metadata": {
    "collapsed": true
   },
   "outputs": [],
   "source": [
    "from text_tokenize_lemmatize import tokenizer_lemmatizer\n",
    "from spacy.en import English"
   ]
  },
  {
   "cell_type": "code",
   "execution_count": 520,
   "metadata": {
    "collapsed": false
   },
   "outputs": [],
   "source": [
    "import file_utilities"
   ]
  },
  {
   "cell_type": "code",
   "execution_count": 533,
   "metadata": {
    "collapsed": false
   },
   "outputs": [],
   "source": [
    "level_1_flavors = open_json(filepath=\"level_1_flavors.json\")\n",
    "level_2_flavors = open_json(filepath=\"level_2_flavors.json\")\n",
    "level_3_flavors = open_json(filepath=\"level_3_flavors.json\")\n",
    "flavor_table = open_json(filepath=\"flavor_table.json\")"
   ]
  },
  {
   "cell_type": "code",
   "execution_count": 550,
   "metadata": {
    "collapsed": false
   },
   "outputs": [
    {
     "data": {
      "text/plain": [
       "{u'level_1': u'Fruity', u'level_2': u'Other Fruit', u'level_3': u'Apple'}"
      ]
     },
     "execution_count": 550,
     "metadata": {},
     "output_type": "execute_result"
    }
   ],
   "source": [
    "flavor_table[42]"
   ]
  },
  {
   "cell_type": "code",
   "execution_count": 544,
   "metadata": {
    "collapsed": false
   },
   "outputs": [],
   "source": [
    "import list_flavors"
   ]
  },
  {
   "cell_type": "code",
   "execution_count": 551,
   "metadata": {
    "collapsed": false
   },
   "outputs": [
    {
     "data": {
      "text/plain": [
       "[u'Nutty/Cocoa',\n",
       " u'Sour/Fermented',\n",
       " u'Sweet',\n",
       " u'Green/Vegetative',\n",
       " u'Other',\n",
       " u'Roasted',\n",
       " u'Floral',\n",
       " u'Spices',\n",
       " u'Fruity']"
      ]
     },
     "execution_count": 551,
     "metadata": {},
     "output_type": "execute_result"
    }
   ],
   "source": [
    "list_flavors(flavor_table,1)"
   ]
  },
  {
   "cell_type": "code",
   "execution_count": 546,
   "metadata": {
    "collapsed": true
   },
   "outputs": [],
   "source": [
    "def list_flavors(flavor_table, level):\n",
    "   key_str = 'level_{}'.format(level)\n",
    "   return list(set([ f[key_str] for f in flavor_table if f[key_str] ]))\n"
   ]
  },
  {
   "cell_type": "code",
   "execution_count": 565,
   "metadata": {
    "collapsed": false
   },
   "outputs": [
    {
     "data": {
      "text/plain": [
       "[u'Other']"
      ]
     },
     "execution_count": 565,
     "metadata": {},
     "output_type": "execute_result"
    }
   ],
   "source": [
    "[flavor_table[i]['level_1']]"
   ]
  },
  {
   "cell_type": "code",
   "execution_count": 554,
   "metadata": {
    "collapsed": false
   },
   "outputs": [
    {
     "name": "stdout",
     "output_type": "stream",
     "text": [
      "0 {u'level_1': u'Roasted', u'level_2': u'Pipe Tobacco', u'level_3': None}\n",
      "1 {u'level_1': u'Roasted', u'level_2': u'Tobacco', u'level_3': None}\n",
      "2 {u'level_1': u'Roasted', u'level_2': u'Burnt', u'level_3': u'Acrid'}\n",
      "3 {u'level_1': u'Roasted', u'level_2': u'Burnt', u'level_3': u'Ashy'}\n",
      "4 {u'level_1': u'Roasted', u'level_2': u'Burnt', u'level_3': u'Smoky'}\n",
      "5 {u'level_1': u'Roasted', u'level_2': u'Burnt', u'level_3': u'Brown, Roast'}\n",
      "6 {u'level_1': u'Roasted', u'level_2': u'Cereal', u'level_3': u'Malt'}\n",
      "7 {u'level_1': u'Roasted', u'level_2': u'Cereal', u'level_3': u'Grain'}\n",
      "8 {u'level_1': u'Spices', u'level_2': u'Pungent', u'level_3': None}\n",
      "9 {u'level_1': u'Spices', u'level_2': u'Pepper', u'level_3': None}\n",
      "10 {u'level_1': u'Spices', u'level_2': u'Brown Spice', u'level_3': u'Anise'}\n",
      "11 {u'level_1': u'Spices', u'level_2': u'Brown Spice', u'level_3': u'Nutmeg'}\n",
      "12 {u'level_1': u'Spices', u'level_2': u'Brown Spice', u'level_3': u'Cinnamon'}\n",
      "13 {u'level_1': u'Spices', u'level_2': u'Brown Spice', u'level_3': u'Clove'}\n",
      "14 {u'level_1': u'Nutty/Cocoa', u'level_2': u'Nutty', u'level_3': u'Peanuts'}\n",
      "15 {u'level_1': u'Nutty/Cocoa', u'level_2': u'Nutty', u'level_3': u'Hazelnut'}\n",
      "16 {u'level_1': u'Nutty/Cocoa', u'level_2': u'Nutty', u'level_3': u'Almond'}\n",
      "17 {u'level_1': u'Nutty/Cocoa', u'level_2': u'Cocoa', u'level_3': u'Chocolate'}\n",
      "18 {u'level_1': u'Nutty/Cocoa', u'level_2': u'Cocoa', u'level_3': u'Dark Chocolate'}\n",
      "19 {u'level_1': u'Sweet', u'level_2': u'Brown Sugar', u'level_3': u'Molasses'}\n",
      "20 {u'level_1': u'Sweet', u'level_2': u'Brown Sugar', u'level_3': u'Maple Syrup'}\n",
      "21 {u'level_1': u'Sweet', u'level_2': u'Brown Sugar', u'level_3': u'Carmelized'}\n",
      "22 {u'level_1': u'Sweet', u'level_2': u'Brown Sugar', u'level_3': u'Honey'}\n",
      "23 {u'level_1': u'Sweet', u'level_2': u'Vanilla', u'level_3': None}\n",
      "24 {u'level_1': u'Sweet', u'level_2': u'Vanillin', u'level_3': None}\n",
      "25 {u'level_1': u'Sweet', u'level_2': u'Overall Sweet', u'level_3': None}\n",
      "26 {u'level_1': u'Sweet', u'level_2': u'Sweet Aromatics', u'level_3': None}\n",
      "27 {u'level_1': u'Floral', u'level_2': u'Black Tea', u'level_3': None}\n",
      "28 {u'level_1': u'Floral', u'level_2': u'Floral', u'level_3': u'Chamomile'}\n",
      "29 {u'level_1': u'Floral', u'level_2': u'Floral', u'level_3': u'Rose'}\n",
      "30 {u'level_1': u'Floral', u'level_2': u'Floral', u'level_3': u'Jasmine'}\n",
      "31 {u'level_1': u'Fruity', u'level_2': u'Berry', u'level_3': u'Blackberry'}\n",
      "32 {u'level_1': u'Fruity', u'level_2': u'Berry', u'level_3': u'Raspberry'}\n",
      "33 {u'level_1': u'Fruity', u'level_2': u'Berry', u'level_3': u'Blueberry'}\n",
      "34 {u'level_1': u'Fruity', u'level_2': u'Berry', u'level_3': u'Strawberry'}\n",
      "35 {u'level_1': u'Fruity', u'level_2': u'Dried Fruit', u'level_3': u'Raisin'}\n",
      "36 {u'level_1': u'Fruity', u'level_2': u'Dried Fruit', u'level_3': u'Prune'}\n",
      "37 {u'level_1': u'Fruity', u'level_2': u'Other Fruit', u'level_3': u'Coconut'}\n",
      "38 {u'level_1': u'Fruity', u'level_2': u'Other Fruit', u'level_3': u'Cherry'}\n",
      "39 {u'level_1': u'Fruity', u'level_2': u'Other Fruit', u'level_3': u'Pomegranate'}\n",
      "40 {u'level_1': u'Fruity', u'level_2': u'Other Fruit', u'level_3': u'Pineapple'}\n",
      "41 {u'level_1': u'Fruity', u'level_2': u'Other Fruit', u'level_3': u'Grape'}\n",
      "42 {u'level_1': u'Fruity', u'level_2': u'Other Fruit', u'level_3': u'Apple'}\n",
      "43 {u'level_1': u'Fruity', u'level_2': u'Other Fruit', u'level_3': u'Peach'}\n",
      "44 {u'level_1': u'Fruity', u'level_2': u'Other Fruit', u'level_3': u'Pear'}\n",
      "45 {u'level_1': u'Fruity', u'level_2': u'Citrus Fruit', u'level_3': u'Grapefruit'}\n",
      "46 {u'level_1': u'Fruity', u'level_2': u'Citrus Fruit', u'level_3': u'Orange'}\n",
      "47 {u'level_1': u'Fruity', u'level_2': u'Citrus Fruit', u'level_3': u'Lemon'}\n",
      "48 {u'level_1': u'Fruity', u'level_2': u'Citrus Fruit', u'level_3': u'Lime'}\n",
      "49 {u'level_1': u'Sour/Fermented', u'level_2': u'Sour', u'level_3': u'Sour Aromatics'}\n",
      "50 {u'level_1': u'Sour/Fermented', u'level_2': u'Sour', u'level_3': u'Acetic Acid'}\n",
      "51 {u'level_1': u'Sour/Fermented', u'level_2': u'Sour', u'level_3': u'Butyric Acid'}\n",
      "52 {u'level_1': u'Sour/Fermented', u'level_2': u'Sour', u'level_3': u'Isovaleric Acid'}\n",
      "53 {u'level_1': u'Sour/Fermented', u'level_2': u'Sour', u'level_3': u'Citric Acid'}\n",
      "54 {u'level_1': u'Sour/Fermented', u'level_2': u'Sour', u'level_3': u'Malic Acid'}\n",
      "55 {u'level_1': u'Sour/Fermented', u'level_2': u'Alcohol/Fermented', u'level_3': u'Winey'}\n",
      "56 {u'level_1': u'Sour/Fermented', u'level_2': u'Alcohol/Fermented', u'level_3': u'Whiskey'}\n",
      "57 {u'level_1': u'Sour/Fermented', u'level_2': u'Alcohol/Fermented', u'level_3': u'Fermented'}\n",
      "58 {u'level_1': u'Sour/Fermented', u'level_2': u'Alcohol/Fermented', u'level_3': u'Overripe'}\n",
      "59 {u'level_1': u'Green/Vegetative', u'level_2': u'Olive Oil', u'level_3': None}\n",
      "60 {u'level_1': u'Green/Vegetative', u'level_2': u'Raw', u'level_3': None}\n",
      "61 {u'level_1': u'Green/Vegetative', u'level_2': u'Green/Vegetative', u'level_3': u'Under-Ripe'}\n",
      "62 {u'level_1': u'Green/Vegetative', u'level_2': u'Green/Vegetative', u'level_3': u'Peapod'}\n",
      "63 {u'level_1': u'Green/Vegetative', u'level_2': u'Green/Vegetative', u'level_3': u'Fresh'}\n",
      "64 {u'level_1': u'Green/Vegetative', u'level_2': u'Green/Vegetative', u'level_3': u'Dark Green'}\n",
      "65 {u'level_1': u'Green/Vegetative', u'level_2': u'Green/Vegetative', u'level_3': u'Vegetative'}\n",
      "66 {u'level_1': u'Green/Vegetative', u'level_2': u'Green/Vegetative', u'level_3': u'Hay-Like'}\n",
      "67 {u'level_1': u'Green/Vegetative', u'level_2': u'Green/Vegetative', u'level_3': u'Herb-Like'}\n",
      "68 {u'level_1': u'Green/Vegetative', u'level_2': u'Beany', u'level_3': None}\n",
      "69 {u'level_1': u'Other', u'level_2': u'Paper/Musty', u'level_3': u'Stale'}\n",
      "70 {u'level_1': u'Other', u'level_2': u'Paper/Musty', u'level_3': u'Cardboard'}\n",
      "71 {u'level_1': u'Other', u'level_2': u'Paper/Musty', u'level_3': u'Papery'}\n",
      "72 {u'level_1': u'Other', u'level_2': u'Paper/Musty', u'level_3': u'Woody'}\n",
      "73 {u'level_1': u'Other', u'level_2': u'Paper/Musty', u'level_3': u'Moldy/Damp'}\n",
      "74 {u'level_1': u'Other', u'level_2': u'Paper/Musty', u'level_3': u'Musty/Dusty'}\n",
      "75 {u'level_1': u'Other', u'level_2': u'Paper/Musty', u'level_3': u'Musty/Earthy'}\n",
      "76 {u'level_1': u'Other', u'level_2': u'Paper/Musty', u'level_3': u'Animalic'}\n",
      "77 {u'level_1': u'Other', u'level_2': u'Paper/Musty', u'level_3': u'Meaty Brothy'}\n",
      "78 {u'level_1': u'Other', u'level_2': u'Paper/Musty', u'level_3': u'Phenolic'}\n",
      "79 {u'level_1': u'Other', u'level_2': u'Chemical', u'level_3': u'Bitter'}\n",
      "80 {u'level_1': u'Other', u'level_2': u'Chemical', u'level_3': u'Salty'}\n",
      "81 {u'level_1': u'Other', u'level_2': u'Chemical', u'level_3': u'Medicinal'}\n",
      "82 {u'level_1': u'Other', u'level_2': u'Chemical', u'level_3': u'Petroleum'}\n",
      "83 {u'level_1': u'Other', u'level_2': u'Chemical', u'level_3': u'Skunky'}\n",
      "84 {u'level_1': u'Other', u'level_2': u'Chemical', u'level_3': u'Rubber'}\n"
     ]
    }
   ],
   "source": [
    "for i,flavor in enumerate(flavor_table):\n",
    "    if 'Acrid' in flavor_table[i].values()\n",
    "        if flavor_table[i]['level_3'] == 'Acrid'\n",
    "            return flavor_table[i].values()\n",
    "        elif flavor_table[i]['level_2'] == 'Acrid'\n",
    "            return [flavor_table[i]['level_1'], flavor_table[i]['level_2']]\n",
    "        else:\n",
    "            return [flavor_table[i]['level_1']]"
   ]
  },
  {
   "cell_type": "code",
   "execution_count": null,
   "metadata": {
    "collapsed": true
   },
   "outputs": [],
   "source": []
  }
 ],
 "metadata": {
  "kernelspec": {
   "display_name": "Python 2",
   "language": "python",
   "name": "python2"
  },
  "language_info": {
   "codemirror_mode": {
    "name": "ipython",
    "version": 2
   },
   "file_extension": ".py",
   "mimetype": "text/x-python",
   "name": "python",
   "nbconvert_exporter": "python",
   "pygments_lexer": "ipython2",
   "version": "2.7.10"
  }
 },
 "nbformat": 4,
 "nbformat_minor": 0
}
